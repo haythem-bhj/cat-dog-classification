{
  "nbformat": 4,
  "nbformat_minor": 0,
  "metadata": {
    "colab": {
      "name": "Cat_Dog_Classifier.ipynb",
      "provenance": [],
      "collapsed_sections": []
    },
    "kernelspec": {
      "name": "python3",
      "display_name": "Python 3"
    },
    "accelerator": "GPU"
  },
  "cells": [
    {
      "cell_type": "markdown",
      "metadata": {
        "id": "jcK-cW3V3lk2"
      },
      "source": [
        "# **Import required libraries**"
      ]
    },
    {
      "cell_type": "code",
      "metadata": {
        "id": "TS5h5I7FQQ5Q"
      },
      "source": [
        "# import the libraries as shown below\r\n",
        "from tensorflow.keras.models import Sequential,load_model\r\n",
        "from tensorflow.keras.layers import Dense,Flatten,Conv2D,MaxPool2D,MaxPooling2D,Dropout\r\n",
        "from tensorflow.keras.preprocessing.image import ImageDataGenerator,load_img\r\n",
        "from tensorflow.keras.preprocessing import image\r\n",
        "import pandas as pd\r\n",
        "import numpy as np"
      ],
      "execution_count": 48,
      "outputs": []
    },
    {
      "cell_type": "code",
      "metadata": {
        "id": "IKI9tly7QZVg"
      },
      "source": [
        "img_size = [64,64,3]"
      ],
      "execution_count": 16,
      "outputs": []
    },
    {
      "cell_type": "code",
      "metadata": {
        "id": "6hl3X0e-QcPF"
      },
      "source": [
        "test = '/content/drive/MyDrive/datasets/cat_dog_dataset/test_set/test_set'                         \r\n",
        "train = '/content/drive/MyDrive/datasets/cat_dog_dataset/training_set/training_set'"
      ],
      "execution_count": 14,
      "outputs": []
    },
    {
      "cell_type": "markdown",
      "metadata": {
        "id": "6qhnz9cL31ek"
      },
      "source": [
        "# **Data** **Augmentation**"
      ]
    },
    {
      "cell_type": "code",
      "metadata": {
        "id": "oDX-BWatRDMJ"
      },
      "source": [
        "train_datagen = ImageDataGenerator(rescale = 1./255,\r\n",
        "                                   shear_range = 0.2,\r\n",
        "                                   zoom_range = 0.2,\r\n",
        "                                   horizontal_flip = True)\r\n",
        "\r\n",
        "test_datagen = ImageDataGenerator(rescale = 1./255)"
      ],
      "execution_count": 17,
      "outputs": []
    },
    {
      "cell_type": "code",
      "metadata": {
        "colab": {
          "base_uri": "https://localhost:8080/"
        },
        "id": "wORizqvoRFAh",
        "outputId": "e88b0639-09f5-4a33-9ea2-52bfc36ae096"
      },
      "source": [
        "# Make sure you provide the same target size as initialied for the image size\r\n",
        "training_set = train_datagen.flow_from_directory(train,\r\n",
        "                                                 target_size = (64, 64),\r\n",
        "                                                 batch_size = 16,\r\n",
        "                                                 class_mode = 'categorical')"
      ],
      "execution_count": 18,
      "outputs": [
        {
          "output_type": "stream",
          "text": [
            "Found 8005 images belonging to 2 classes.\n"
          ],
          "name": "stdout"
        }
      ]
    },
    {
      "cell_type": "code",
      "metadata": {
        "colab": {
          "base_uri": "https://localhost:8080/"
        },
        "id": "k10pmZJFRIDV",
        "outputId": "a2f06829-2a96-47cc-90eb-647167475654"
      },
      "source": [
        "test_set = test_datagen.flow_from_directory(test,\r\n",
        "                                            target_size = (64, 64),\r\n",
        "                                            batch_size = 16,\r\n",
        "                                            class_mode = 'categorical')"
      ],
      "execution_count": 19,
      "outputs": [
        {
          "output_type": "stream",
          "text": [
            "Found 2023 images belonging to 2 classes.\n"
          ],
          "name": "stdout"
        }
      ]
    },
    {
      "cell_type": "code",
      "metadata": {
        "colab": {
          "base_uri": "https://localhost:8080/"
        },
        "id": "qEpuIUdFfmR8",
        "outputId": "f5a7d09b-d115-4d23-8fe5-8eb069bf8721"
      },
      "source": [
        "training_set.class_indices"
      ],
      "execution_count": 21,
      "outputs": [
        {
          "output_type": "execute_result",
          "data": {
            "text/plain": [
              "{'cats': 0, 'dogs': 1}"
            ]
          },
          "metadata": {
            "tags": []
          },
          "execution_count": 21
        }
      ]
    },
    {
      "cell_type": "markdown",
      "metadata": {
        "id": "gpVBFMxM355o"
      },
      "source": [
        "# **Define a model**"
      ]
    },
    {
      "cell_type": "code",
      "metadata": {
        "id": "JcixTDV0Xn9g"
      },
      "source": [
        "model1 = Sequential()\r\n",
        "model1.add(Conv2D(filters=32, kernel_size=3, input_shape=[64, 64, 3]))\r\n",
        "model1.add(MaxPooling2D(pool_size=(2,2)))\r\n",
        "model1.add(Conv2D(filters=64, kernel_size=3))\r\n",
        "model1.add(MaxPooling2D(pool_size=(2,2)))\r\n",
        "model1.add(Conv2D(filters=128, kernel_size=3))\r\n",
        "model1.add(MaxPooling2D(pool_size=(2,2)))     \r\n",
        "\r\n",
        "model1.add(Conv2D(filters=256, kernel_size=3))\r\n",
        "model1.add(MaxPooling2D(pool_size=(2,2)))\r\n",
        "\r\n",
        "model1.add(Dropout(0.5))                                                                        \r\n",
        "model1.add(Flatten()) # neural network beulding\r\n",
        "model1.add(Dense(units=128, activation='relu')) # input layers\r\n",
        "model1.add(Dropout(0.1))                                    \r\n",
        "model1.add(Dense(units=256, activation='relu'))                                    \r\n",
        "model1.add(Dropout(0.25))             \r\n",
        "model1.add(Dense(units=2, activation='softmax')) # output layer"
      ],
      "execution_count": 22,
      "outputs": []
    },
    {
      "cell_type": "code",
      "metadata": {
        "id": "NftTprORXol8"
      },
      "source": [
        "model1.compile(optimizer = 'adam', loss = 'categorical_crossentropy', metrics = ['accuracy'])"
      ],
      "execution_count": 23,
      "outputs": []
    },
    {
      "cell_type": "code",
      "metadata": {
        "id": "zWZijZt64BUm"
      },
      "source": [
        ""
      ],
      "execution_count": null,
      "outputs": []
    },
    {
      "cell_type": "markdown",
      "metadata": {
        "id": "YOvAVQ244D2s"
      },
      "source": [
        "# **Train a model**"
      ]
    },
    {
      "cell_type": "code",
      "metadata": {
        "colab": {
          "base_uri": "https://localhost:8080/"
        },
        "id": "BY5sZULsnPPU",
        "outputId": "c1b8b483-981a-4389-bb70-cac3a39c6e33"
      },
      "source": [
        "history1 = model1.fit(\r\n",
        "  training_set,\r\n",
        "  validation_data=test_set,\r\n",
        "  epochs=25,\r\n",
        "  steps_per_epoch=len(training_set),\r\n",
        "  validation_steps=len(test_set)\r\n",
        ")"
      ],
      "execution_count": 24,
      "outputs": [
        {
          "output_type": "stream",
          "text": [
            "Epoch 1/25\n",
            "501/501 [==============================] - 76s 87ms/step - loss: 0.6995 - accuracy: 0.5348 - val_loss: 0.6247 - val_accuracy: 0.6673\n",
            "Epoch 2/25\n",
            "501/501 [==============================] - 43s 86ms/step - loss: 0.6382 - accuracy: 0.6447 - val_loss: 0.5802 - val_accuracy: 0.7029\n",
            "Epoch 3/25\n",
            "501/501 [==============================] - 43s 85ms/step - loss: 0.5712 - accuracy: 0.7166 - val_loss: 0.5947 - val_accuracy: 0.6831\n",
            "Epoch 4/25\n",
            "501/501 [==============================] - 44s 88ms/step - loss: 0.5580 - accuracy: 0.7194 - val_loss: 0.5107 - val_accuracy: 0.7553\n",
            "Epoch 5/25\n",
            "501/501 [==============================] - 43s 86ms/step - loss: 0.5315 - accuracy: 0.7322 - val_loss: 0.5235 - val_accuracy: 0.7642\n",
            "Epoch 6/25\n",
            "501/501 [==============================] - 44s 87ms/step - loss: 0.5053 - accuracy: 0.7568 - val_loss: 0.4998 - val_accuracy: 0.7805\n",
            "Epoch 7/25\n",
            "501/501 [==============================] - 44s 87ms/step - loss: 0.4831 - accuracy: 0.7683 - val_loss: 0.4778 - val_accuracy: 0.7731\n",
            "Epoch 8/25\n",
            "501/501 [==============================] - 43s 87ms/step - loss: 0.4686 - accuracy: 0.7779 - val_loss: 0.4611 - val_accuracy: 0.7855\n",
            "Epoch 9/25\n",
            "501/501 [==============================] - 44s 87ms/step - loss: 0.4550 - accuracy: 0.7951 - val_loss: 0.4321 - val_accuracy: 0.8077\n",
            "Epoch 10/25\n",
            "501/501 [==============================] - 44s 87ms/step - loss: 0.4384 - accuracy: 0.7967 - val_loss: 0.4202 - val_accuracy: 0.8082\n",
            "Epoch 11/25\n",
            "501/501 [==============================] - 43s 86ms/step - loss: 0.4369 - accuracy: 0.8068 - val_loss: 0.4896 - val_accuracy: 0.7499\n",
            "Epoch 12/25\n",
            "501/501 [==============================] - 43s 86ms/step - loss: 0.4075 - accuracy: 0.8218 - val_loss: 0.5038 - val_accuracy: 0.7701\n",
            "Epoch 13/25\n",
            "501/501 [==============================] - 44s 88ms/step - loss: 0.4277 - accuracy: 0.8074 - val_loss: 0.4301 - val_accuracy: 0.8062\n",
            "Epoch 14/25\n",
            "501/501 [==============================] - 44s 87ms/step - loss: 0.3963 - accuracy: 0.8234 - val_loss: 0.4239 - val_accuracy: 0.8043\n",
            "Epoch 15/25\n",
            "501/501 [==============================] - 43s 85ms/step - loss: 0.3945 - accuracy: 0.8252 - val_loss: 0.3982 - val_accuracy: 0.8220\n",
            "Epoch 16/25\n",
            "501/501 [==============================] - 43s 86ms/step - loss: 0.3801 - accuracy: 0.8248 - val_loss: 0.4293 - val_accuracy: 0.8087\n",
            "Epoch 17/25\n",
            "501/501 [==============================] - 43s 87ms/step - loss: 0.3814 - accuracy: 0.8290 - val_loss: 0.3720 - val_accuracy: 0.8324\n",
            "Epoch 18/25\n",
            "501/501 [==============================] - 43s 86ms/step - loss: 0.3975 - accuracy: 0.8260 - val_loss: 0.3897 - val_accuracy: 0.8186\n",
            "Epoch 19/25\n",
            "501/501 [==============================] - 43s 86ms/step - loss: 0.3629 - accuracy: 0.8430 - val_loss: 0.5268 - val_accuracy: 0.7855\n",
            "Epoch 20/25\n",
            "501/501 [==============================] - 43s 85ms/step - loss: 0.3837 - accuracy: 0.8287 - val_loss: 0.4295 - val_accuracy: 0.8008\n",
            "Epoch 21/25\n",
            "501/501 [==============================] - 42s 85ms/step - loss: 0.3580 - accuracy: 0.8381 - val_loss: 0.5374 - val_accuracy: 0.7879\n",
            "Epoch 22/25\n",
            "501/501 [==============================] - 42s 85ms/step - loss: 0.3581 - accuracy: 0.8500 - val_loss: 0.3812 - val_accuracy: 0.8369\n",
            "Epoch 23/25\n",
            "501/501 [==============================] - 43s 85ms/step - loss: 0.3383 - accuracy: 0.8540 - val_loss: 0.3910 - val_accuracy: 0.8295\n",
            "Epoch 24/25\n",
            "501/501 [==============================] - 43s 85ms/step - loss: 0.3370 - accuracy: 0.8515 - val_loss: 0.4205 - val_accuracy: 0.8023\n",
            "Epoch 25/25\n",
            "501/501 [==============================] - 43s 86ms/step - loss: 0.3455 - accuracy: 0.8508 - val_loss: 0.3696 - val_accuracy: 0.8354\n"
          ],
          "name": "stdout"
        }
      ]
    },
    {
      "cell_type": "markdown",
      "metadata": {
        "id": "DRawqT0P4IZO"
      },
      "source": [
        "# **Save a model**"
      ]
    },
    {
      "cell_type": "code",
      "metadata": {
        "id": "kpPSyIziRNYA"
      },
      "source": [
        "# save it as a h5 file\r\n",
        "model1.save('Cat_Dog_classifier.h5')   # Dog:1 , Cat:0"
      ],
      "execution_count": 26,
      "outputs": []
    },
    {
      "cell_type": "markdown",
      "metadata": {
        "id": "vjvZ8d_P4N2y"
      },
      "source": [
        "# **Load a model**"
      ]
    },
    {
      "cell_type": "code",
      "metadata": {
        "id": "sn2W5o8_4RvT"
      },
      "source": [
        "model =load_model(\"Cat_Dog_classifier.h5\")"
      ],
      "execution_count": 39,
      "outputs": []
    },
    {
      "cell_type": "markdown",
      "metadata": {
        "id": "uyU8NMxN5na3"
      },
      "source": [
        "# **Test a image that model is working correctly or not**"
      ]
    },
    {
      "cell_type": "code",
      "metadata": {
        "id": "NAvE-Ts_XMDU"
      },
      "source": [
        "# img_path = \"/content/drive/MyDrive/datasets/cat_dog_dataset/Test_imgs/1.jpeg\"\r\n",
        "img_path = \"/content/drive/MyDrive/datasets/cat_dog_dataset/Test_imgs/5.jpg\""
      ],
      "execution_count": 45,
      "outputs": []
    },
    {
      "cell_type": "code",
      "metadata": {
        "colab": {
          "base_uri": "https://localhost:8080/",
          "height": 81
        },
        "id": "K6gFF0neXMJ4",
        "outputId": "eb1b0bce-3a77-4ea0-f1f1-b1fb0b272d05"
      },
      "source": [
        "img=image.load_img(img_path,target_size=(64,64))\r\n",
        "img"
      ],
      "execution_count": 46,
      "outputs": [
        {
          "output_type": "execute_result",
          "data": {
            "image/png": "[encoded data removed]",
            "text/plain": [
              "<PIL.Image.Image image mode=RGB size=64x64 at 0x7F0FCE038A90>"
            ]
          },
          "metadata": {
            "tags": []
          },
          "execution_count": 46
        }
      ]
    },
    {
      "cell_type": "code",
      "metadata": {
        "colab": {
          "base_uri": "https://localhost:8080/"
        },
        "id": "xWtInaV_XZ7D",
        "outputId": "44f7ceba-d33b-4bcf-eb0b-2eb30a54588b"
      },
      "source": [
        "x=image.img_to_array(img)\r\n",
        "x=x/255\r\n",
        "x=np.expand_dims(x,axis=0)\r\n",
        "pred = np.argmax(model.predict(x)[0], axis=-1)\r\n",
        "\r\n",
        "if pred==1:\r\n",
        "  print('DOG')\r\n",
        "else:\r\n",
        "  print(\"CAT\")\r\n"
      ],
      "execution_count": 47,
      "outputs": [
        {
          "output_type": "stream",
          "text": [
            "DOG\n"
          ],
          "name": "stdout"
        }
      ]
    },
    {
      "cell_type": "code",
      "metadata": {
        "id": "_70PqZhppFoT"
      },
      "source": [
        ""
      ],
      "execution_count": 35,
      "outputs": []
    }
  ]
}